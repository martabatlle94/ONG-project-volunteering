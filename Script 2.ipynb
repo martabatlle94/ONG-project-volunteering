{
 "cells": [
  {
   "cell_type": "code",
   "execution_count": 1,
   "metadata": {},
   "outputs": [
    {
     "name": "stdout",
     "output_type": "stream",
     "text": [
      "Using matplotlib backend: Qt5Agg\n",
      "Populating the interactive namespace from numpy and matplotlib\n"
     ]
    }
   ],
   "source": [
    "import requests\n",
    "import time\n",
    "import pprint\n",
    "import pickle\n",
    "import numpy as np\n",
    "import json\n",
    "import pandas as pd\n",
    "import matplotlib.pyplot as plt\n",
    "from unicodedata import normalize\n",
    "from matplotlib import pyplot\n",
    "import seaborn as sns\n",
    "from sklearn.preprocessing import Imputer\n",
    "%matplotlib\n",
    "%pylab inline\n",
    "pylab.rcParams['figure.figsize'] = (20, 10)\n",
    "from sklearn.preprocessing import LabelEncoder\n",
    "from collections import Counter"
   ]
  },
  {
   "cell_type": "code",
   "execution_count": 2,
   "metadata": {},
   "outputs": [],
   "source": [
    "tablin = pd.read_csv(r'C:\\Users\\Marta\\Desktop\\MSF\\datathon_train\\procesamiento_1_2.csv', \n",
    "                    sep=';', engine=\"python\", decimal=',', encoding=\"latin1\")   \n",
    "tablin= tablin.rename(columns = {'ID':'IDMIEMBRO'})"
   ]
  },
  {
   "cell_type": "code",
   "execution_count": 3,
   "metadata": {},
   "outputs": [],
   "source": [
    "#Leemos la tabla 3\n",
    "aumentos = pd.read_csv(r'C:\\Users\\Marta\\Desktop\\MSF\\datathon_train\\3.AUMENTOS_train.txt', \n",
    "                    sep=';', engine=\"python\", decimal=',', encoding=\"latin1\")   "
   ]
  },
  {
   "cell_type": "code",
   "execution_count": 4,
   "metadata": {},
   "outputs": [],
   "source": [
    "aumentos.columns = ['IDMIEMBRO', 'FECHA_aum', 'IDFAMILIA_aum', 'IDREGISTRO_aum', 'IDMEDIO_aum', 'IDCAMPANYA_aum']"
   ]
  },
  {
   "cell_type": "code",
   "execution_count": 5,
   "metadata": {},
   "outputs": [],
   "source": [
    "aumentos = aumentos.loc[:,['IDMIEMBRO', 'IDREGISTRO_aum']]"
   ]
  },
  {
   "cell_type": "code",
   "execution_count": 6,
   "metadata": {},
   "outputs": [],
   "source": [
    "#Calculamos cuantas veces el usuario ha aumentado sus donativos\n",
    "aumentos= aumentos.groupby(['IDMIEMBRO']).sum()"
   ]
  },
  {
   "cell_type": "code",
   "execution_count": 7,
   "metadata": {},
   "outputs": [],
   "source": [
    "aumentos= aumentos.reset_index()"
   ]
  },
  {
   "cell_type": "code",
   "execution_count": 12,
   "metadata": {},
   "outputs": [],
   "source": [
    "tablin= tablin.merge(aumentos, how='outer')"
   ]
  },
  {
   "cell_type": "code",
   "execution_count": 13,
   "metadata": {},
   "outputs": [],
   "source": [
    "#Leemos la tabla 5\n",
    "bajas = pd.read_csv(r'C:\\Users\\Marta\\Desktop\\MSF\\datathon_train\\5_bajas_final.csv', \n",
    "                    engine=\"python\", decimal=',', encoding=\"latin1\")   "
   ]
  },
  {
   "cell_type": "code",
   "execution_count": 15,
   "metadata": {},
   "outputs": [],
   "source": [
    "bajas= bajas.loc[:,['IDMIEMBRO', 'baj_fech']]"
   ]
  },
  {
   "cell_type": "code",
   "execution_count": 16,
   "metadata": {},
   "outputs": [],
   "source": [
    "#Nos quedamos con la última baja de cada usuario\n",
    "bajas= bajas.groupby(['IDMIEMBRO']).max()\n",
    "bajas= bajas.reset_index()"
   ]
  },
  {
   "cell_type": "code",
   "execution_count": 19,
   "metadata": {},
   "outputs": [],
   "source": [
    "tablin= tablin.merge(bajas, how='outer')"
   ]
  },
  {
   "cell_type": "code",
   "execution_count": 20,
   "metadata": {},
   "outputs": [],
   "source": [
    "#Leemos la tabla 6\n",
    "enriq = pd.read_csv(r'C:\\Users\\Marta\\Desktop\\MSF\\datathon_train\\6-enriquecimiento_20170201.txt', \n",
    "                    sep=';', engine=\"python\", decimal=',', encoding=\"latin1\")   "
   ]
  },
  {
   "cell_type": "code",
   "execution_count": null,
   "metadata": {},
   "outputs": [],
   "source": [
    "#Eliminamos unas cuantas columnas que no creemos estrictamente necesarias\n",
    "del enriq['ComunidadAutonoma']\n",
    "del enriq['TramoEdad']\n",
    "del enriq['Menores18']\n",
    "del enriq['Entre18_45']\n",
    "del enriq['T_Antiguedad']\n",
    "del enriq['Superficie']\n",
    "del enriq['T_Superficie']\n",
    "del enriq['Superficie_NivelAsignacion']\n",
    "del enriq['PoblacionINE']\n",
    "del enriq ['Tasa2']\n",
    "del enriq ['Valora']\n",
    "del enriq ['T_Valora']\n",
    "del enriq ['Antiguedad']\n",
    "del enriq ['Habitat']\n",
    "del enriq ['DistCapital']\n",
    "del enriq['T_DistCapital']\n",
    "del enriq ['T_TasaParo']\n",
    "del enriq['OtrosElementos']\n",
    "del enriq['T_Renta']"
   ]
  },
  {
   "cell_type": "code",
   "execution_count": 23,
   "metadata": {},
   "outputs": [],
   "source": [
    "enriq=enriq.fillna(0)"
   ]
  },
  {
   "cell_type": "code",
   "execution_count": 24,
   "metadata": {},
   "outputs": [],
   "source": [
    "#Categorizamos (de esta forma porque no nos leía el formato)\n",
    "enriq= enriq.replace('6.NoInformado', '6')\n",
    "enriq= enriq.replace('3.NoInformado', '3')\n",
    "enriq= enriq.replace('NoInformado', '0')\n",
    "enriq= enriq.replace('4.NoInformado', '4')\n",
    "enriq= enriq.replace('0.NoInformado', '0')\n",
    "enriq= enriq.replace('1.NoInformado', '1')\n",
    "enriq= enriq.replace('2.NoInformado', '2')\n",
    "enriq= enriq.replace('5.NoInformado', '5')\n",
    "enriq= enriq.replace('7.NoInformado', '7')"
   ]
  },
  {
   "cell_type": "code",
   "execution_count": 25,
   "metadata": {},
   "outputs": [],
   "source": [
    "enriq= enriq.replace('5.Medio Alto', '5')\n",
    "enriq= enriq.replace('4.Medio', '4')\n",
    "enriq= enriq.replace('3.Medio Bajo', '3')\n",
    "enriq= enriq.replace('2.Bajo', '2')\n",
    "enriq= enriq.replace('1.Muy Bajo', '1')\n",
    "enriq= enriq.replace('6.Alto', '6')\n",
    "enriq= enriq.replace('7.Muy Alto', '7')\n",
    "\n"
   ]
  },
  {
   "cell_type": "code",
   "execution_count": 26,
   "metadata": {},
   "outputs": [],
   "source": [
    "labelencoder = LabelEncoder()\n",
    "enriq['NivelEstudios'] = labelencoder.fit_transform(enriq['NivelEstudios'])"
   ]
  },
  {
   "cell_type": "code",
   "execution_count": 27,
   "metadata": {},
   "outputs": [],
   "source": [
    "enriq= enriq.replace('CORUÃ\\x91A, A', 'CORUÑA')\n",
    "enriq= enriq.replace('ARABA/ALAVA', 'ALAVA')\n",
    "enriq= enriq.replace('VALENCIA/VALENCIA', 'VALENCIA')\n",
    "enriq= enriq.replace('CASTELLON/CASTELLO', 'CASTELLON')\n",
    "enriq= enriq.replace('PALMAS, LAS', 'LASPALMAS')\n",
    "enriq= enriq.replace('ALICANTE/ALACANT', 'ALICANTE')\n",
    "enriq= enriq.replace('BALEARS, ILLES', 'ILLESBALEARS')"
   ]
  },
  {
   "cell_type": "code",
   "execution_count": 28,
   "metadata": {},
   "outputs": [],
   "source": [
    "tablin= tablin.merge(enriq, how='outer')"
   ]
  },
  {
   "cell_type": "code",
   "execution_count": 29,
   "metadata": {},
   "outputs": [],
   "source": [
    "#Leemos la tabla 8\n",
    "inter = pd.read_csv(r'C:\\Users\\Marta\\Desktop\\MSF\\datathon_train\\8.INTERACCIONES_TLMK_train.txt', \n",
    "                    sep=';', engine=\"python\", decimal=',', encoding=\"latin1\")   "
   ]
  },
  {
   "cell_type": "code",
   "execution_count": 31,
   "metadata": {},
   "outputs": [],
   "source": [
    "inter= inter.loc[:,['IDMIEMBRO', 'FECHA', 'IDCANAL', 'IDMEDIO', 'ESTADO']]"
   ]
  },
  {
   "cell_type": "code",
   "execution_count": 32,
   "metadata": {},
   "outputs": [],
   "source": [
    "inter=inter.fillna(0)"
   ]
  },
  {
   "cell_type": "code",
   "execution_count": 33,
   "metadata": {},
   "outputs": [],
   "source": [
    "inter['FECHA'] = pd.to_datetime(inter['FECHA'], format= \"%d/%m/%Y %H:%M:%S\")"
   ]
  },
  {
   "cell_type": "code",
   "execution_count": 34,
   "metadata": {},
   "outputs": [],
   "source": [
    "inter['year']= inter['FECHA'].dt.year\n",
    "inter['month'] = inter['FECHA'].dt.month"
   ]
  },
  {
   "cell_type": "code",
   "execution_count": 35,
   "metadata": {},
   "outputs": [],
   "source": [
    "inter['month'] = inter['month'].map(\"{:02}\".format)\n",
    "inter['FECHA']=(inter['year'].astype(str) + inter['month'].astype(str))"
   ]
  },
  {
   "cell_type": "code",
   "execution_count": 36,
   "metadata": {},
   "outputs": [],
   "source": [
    "del inter['year']\n",
    "del inter['month']"
   ]
  },
  {
   "cell_type": "code",
   "execution_count": 37,
   "metadata": {},
   "outputs": [],
   "source": [
    "tablin.to_csv(r'C:\\Users\\Marta\\Desktop\\MSF\\datathon_train\\tablin_final', sep=';', encoding=\"latin1\", decimal=',', index=False)"
   ]
  },
  {
   "cell_type": "code",
   "execution_count": 38,
   "metadata": {},
   "outputs": [],
   "source": [
    "inter.to_csv(r'C:\\Users\\Marta\\Desktop\\MSF\\datathon_train\\interacciones', sep=';', encoding=\"latin1\", decimal=',', index=False)"
   ]
  },
  {
   "cell_type": "code",
   "execution_count": null,
   "metadata": {},
   "outputs": [],
   "source": []
  }
 ],
 "metadata": {
  "kernelspec": {
   "display_name": "Python 3",
   "language": "python",
   "name": "python3"
  },
  "language_info": {
   "codemirror_mode": {
    "name": "ipython",
    "version": 3
   },
   "file_extension": ".py",
   "mimetype": "text/x-python",
   "name": "python",
   "nbconvert_exporter": "python",
   "pygments_lexer": "ipython3",
   "version": "3.7.0"
  }
 },
 "nbformat": 4,
 "nbformat_minor": 2
}
