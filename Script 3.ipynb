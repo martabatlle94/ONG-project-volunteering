{
 "cells": [
  {
   "cell_type": "code",
   "execution_count": 2,
   "metadata": {},
   "outputs": [],
   "source": [
    "import numpy as np\n",
    "import pandas as pd\n",
    "pd.set_option('display.max_columns', 500)\n",
    "from collections import Counter"
   ]
  },
  {
   "cell_type": "code",
   "execution_count": 3,
   "metadata": {},
   "outputs": [],
   "source": [
    "bajas = pd.read_csv(r'C:\\Users\\Marta\\Desktop\\MSF\\datathon_train\\target_for_201808.csv', \n",
    "                    sep=',', engine=\"python\", decimal=',', encoding=\"latin1\") "
   ]
  },
  {
   "cell_type": "code",
   "execution_count": 4,
   "metadata": {},
   "outputs": [],
   "source": [
    "msf = pd.read_csv(r'C:\\Users\\Marta\\Desktop\\MSF\\datathon_train\\msf_final.csv', \n",
    "                    sep=';', engine=\"python\", decimal=',', encoding=\"latin1\") "
   ]
  },
  {
   "cell_type": "code",
   "execution_count": 5,
   "metadata": {},
   "outputs": [],
   "source": [
    "bajas['target']= 1"
   ]
  },
  {
   "cell_type": "code",
   "execution_count": 6,
   "metadata": {},
   "outputs": [],
   "source": [
    "bajas= bajas.loc[:,['IDMIEMBRO', 'target']]"
   ]
  },
  {
   "cell_type": "code",
   "execution_count": 7,
   "metadata": {},
   "outputs": [],
   "source": [
    "msf= pd.merge(msf, bajas, on=['IDMIEMBRO'], how='left')"
   ]
  },
  {
   "cell_type": "code",
   "execution_count": 8,
   "metadata": {},
   "outputs": [],
   "source": [
    "msf['target']= msf['target'].fillna(value=0)"
   ]
  },
  {
   "cell_type": "code",
   "execution_count": 9,
   "metadata": {},
   "outputs": [
    {
     "data": {
      "text/plain": [
       "Counter({0.0: 673633, 1.0: 11069})"
      ]
     },
     "execution_count": 9,
     "metadata": {},
     "output_type": "execute_result"
    }
   ],
   "source": [
    "Counter(msf['target'])"
   ]
  },
  {
   "cell_type": "code",
   "execution_count": 10,
   "metadata": {},
   "outputs": [],
   "source": [
    "po= msf.isna().sum()"
   ]
  },
  {
   "cell_type": "code",
   "execution_count": 11,
   "metadata": {},
   "outputs": [],
   "source": [
    "filtro = pd.read_csv(r'C:\\Users\\Marta\\Desktop\\MSF\\datathon_train\\bajas_hasta_201808.csv', \n",
    "                    sep=',', engine=\"python\", decimal=',', encoding=\"latin1\") "
   ]
  },
  {
   "cell_type": "code",
   "execution_count": 12,
   "metadata": {},
   "outputs": [],
   "source": [
    "filtro= filtro.loc[:,['IDMIEMBRO']]"
   ]
  },
  {
   "cell_type": "code",
   "execution_count": 13,
   "metadata": {},
   "outputs": [],
   "source": [
    "filtro['filtra']= 1"
   ]
  },
  {
   "cell_type": "code",
   "execution_count": 14,
   "metadata": {},
   "outputs": [],
   "source": [
    "msf= pd.merge(msf, filtro, on=['IDMIEMBRO'],how='left')"
   ]
  },
  {
   "cell_type": "code",
   "execution_count": 15,
   "metadata": {},
   "outputs": [],
   "source": [
    "msf= msf[msf['filtra']!=1]"
   ]
  },
  {
   "cell_type": "code",
   "execution_count": 16,
   "metadata": {},
   "outputs": [],
   "source": [
    "del msf['filtra']"
   ]
  },
  {
   "cell_type": "code",
   "execution_count": 17,
   "metadata": {},
   "outputs": [],
   "source": [
    "cols=['N_interact_canal_.3','N_interact_canal_.2','N_interact_canal_.9','N_interact_canal_.8','N_interact_canal_.5','N_interact_canal_.1','N_interact_canal_.10','N_interact_canal_.7','N_interact_canal_.4','N_interact_canal_.6','N_6m','N_interact_canal_.3_6m','N_interact_canal_.2_6m','N_interact_canal_.9_6m','N_interact_canal_.8_6m','N_interact_canal_.5_6m','N_interact_canal_.1_6m','N_interact_canal_.10_6m','N_interact_canal_.7_6m','N_interact_canal_.4_6m','N_interact_canal_.6_6m']"
   ]
  },
  {
   "cell_type": "code",
   "execution_count": 18,
   "metadata": {},
   "outputs": [],
   "source": [
    "msf[cols]= msf[cols].fillna(value=0)"
   ]
  },
  {
   "cell_type": "code",
   "execution_count": 19,
   "metadata": {},
   "outputs": [],
   "source": [
    "donativos = pd.read_csv(r'C:\\Users\\Marta\\Desktop\\MSF\\datathon_train\\donativos_201808.csv', \n",
    "                    sep=',', engine=\"python\", decimal=',', encoding=\"latin1\") "
   ]
  },
  {
   "cell_type": "code",
   "execution_count": 20,
   "metadata": {},
   "outputs": [],
   "source": [
    "donativos= donativos.fillna(value=0)"
   ]
  },
  {
   "cell_type": "code",
   "execution_count": 21,
   "metadata": {},
   "outputs": [],
   "source": [
    "msf= pd.merge(msf, donativos, on=['IDMIEMBRO'], how='left')"
   ]
  },
  {
   "cell_type": "code",
   "execution_count": 22,
   "metadata": {},
   "outputs": [],
   "source": [
    "msf= msf.fillna(value=0)"
   ]
  },
  {
   "cell_type": "code",
   "execution_count": 23,
   "metadata": {},
   "outputs": [],
   "source": [
    "msf.to_csv(r'C:\\Users\\Marta\\Desktop\\MSF\\datathon_train\\msf.csv', sep=';', encoding=\"latin1\", decimal=',', index=False)"
   ]
  },
  {
   "cell_type": "code",
   "execution_count": null,
   "metadata": {},
   "outputs": [],
   "source": []
  }
 ],
 "metadata": {
  "kernelspec": {
   "display_name": "Python 3",
   "language": "python",
   "name": "python3"
  },
  "language_info": {
   "codemirror_mode": {
    "name": "ipython",
    "version": 3
   },
   "file_extension": ".py",
   "mimetype": "text/x-python",
   "name": "python",
   "nbconvert_exporter": "python",
   "pygments_lexer": "ipython3",
   "version": "3.7.0"
  }
 },
 "nbformat": 4,
 "nbformat_minor": 2
}
