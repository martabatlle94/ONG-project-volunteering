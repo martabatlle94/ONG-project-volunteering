{
 "cells": [
  {
   "cell_type": "code",
   "execution_count": 1,
   "metadata": {},
   "outputs": [
    {
     "name": "stdout",
     "output_type": "stream",
     "text": [
      "Using matplotlib backend: Qt5Agg\n",
      "Populating the interactive namespace from numpy and matplotlib\n"
     ]
    }
   ],
   "source": [
    "import requests\n",
    "import time\n",
    "import pprint\n",
    "import pickle\n",
    "import numpy as np\n",
    "import json\n",
    "import pandas as pd\n",
    "import matplotlib.pyplot as plt\n",
    "from unicodedata import normalize\n",
    "from matplotlib import pyplot\n",
    "import seaborn as sns\n",
    "from sklearn.preprocessing import Imputer\n",
    "%matplotlib\n",
    "%pylab inline\n",
    "pylab.rcParams['figure.figsize'] = (20, 10)\n",
    "from sklearn.preprocessing import LabelEncoder\n",
    "from collections import Counter"
   ]
  },
  {
   "cell_type": "code",
   "execution_count": 38,
   "metadata": {},
   "outputs": [],
   "source": [
    "#Leemos la tabla 1\n",
    "tablin = pd.read_csv(r'C:\\Users\\Marta\\Desktop\\MSF\\datathon_train\\1.INDIVIDUOS_SOCIOS_O_BAJAS_train.txt', \n",
    "                    sep=';', engine=\"python\", decimal=',', encoding=\"latin1\")  \n"
   ]
  },
  {
   "cell_type": "code",
   "execution_count": 40,
   "metadata": {},
   "outputs": [],
   "source": [
    "tabla= tablin"
   ]
  },
  {
   "cell_type": "code",
   "execution_count": 41,
   "metadata": {},
   "outputs": [],
   "source": [
    "tabla.columns= ['ID', 'TELEFONOFIJO', 'TELEFONOMOVIL', 'EMAIL', 'DIRECCION', 'IDIOMA', 'FALLECIDO', 'SEXO', 'ONETOONE', 'CODPOSTAL', 'FECHANACIMIENTO']"
   ]
  },
  {
   "cell_type": "code",
   "execution_count": 42,
   "metadata": {
    "scrolled": true
   },
   "outputs": [],
   "source": [
    "#Procesar las fechas (nos quedamos solo con el año para poder calcular la edad)\n",
    "pr=tabla\n",
    "pr= pr.loc[:,['ID', 'FECHANACIMIENTO']]\n",
    "pr= pr.dropna(subset=['FECHANACIMIENTO'])\n",
    "pr['FECHANACIMIENTO'] = pd.to_datetime(pr['FECHANACIMIENTO'], errors= 'coerce')\n",
    "pr= pr.dropna()\n",
    "pr['FECHANACIMIENTO']=pr['FECHANACIMIENTO'].map(lambda x: x.strftime('%Y'))"
   ]
  },
  {
   "cell_type": "code",
   "execution_count": 43,
   "metadata": {},
   "outputs": [],
   "source": [
    "pr['ACTUAL']= 2019"
   ]
  },
  {
   "cell_type": "code",
   "execution_count": 44,
   "metadata": {},
   "outputs": [],
   "source": [
    "pr['FECHANACIMIENTO']=pd.to_numeric(pr['FECHANACIMIENTO'])\n",
    "pr['ACTUAL']=pd.to_numeric(pr['ACTUAL'])"
   ]
  },
  {
   "cell_type": "code",
   "execution_count": 45,
   "metadata": {},
   "outputs": [],
   "source": [
    "#Calculamos la edad\n",
    "pr['EDAD']= pr['ACTUAL']-pr['FECHANACIMIENTO']\n",
    "del pr['ACTUAL']\n",
    "del pr['FECHANACIMIENTO']"
   ]
  },
  {
   "cell_type": "code",
   "execution_count": 46,
   "metadata": {},
   "outputs": [],
   "source": [
    "tabla= tabla.merge(pr, on='ID', how='outer')"
   ]
  },
  {
   "cell_type": "code",
   "execution_count": 47,
   "metadata": {},
   "outputs": [],
   "source": [
    "tabla=tabla.fillna(0)"
   ]
  },
  {
   "cell_type": "code",
   "execution_count": 48,
   "metadata": {},
   "outputs": [],
   "source": [
    "del tabla['FECHANACIMIENTO']"
   ]
  },
  {
   "cell_type": "code",
   "execution_count": 49,
   "metadata": {},
   "outputs": [],
   "source": [
    "tabla= tabla.replace('SI', '1')\n",
    "tabla= tabla.replace('NO', '0')\n",
    "tabla= tabla.replace('N', '0')\n",
    "tabla= tabla.replace('H', '0')\n",
    "tabla= tabla.replace('M', '1')"
   ]
  },
  {
   "cell_type": "code",
   "execution_count": 50,
   "metadata": {},
   "outputs": [],
   "source": [
    "labelencoder = LabelEncoder()\n",
    "tabla['IDIOMA'] = labelencoder.fit_transform(tabla['IDIOMA'])"
   ]
  },
  {
   "cell_type": "code",
   "execution_count": 51,
   "metadata": {},
   "outputs": [],
   "source": [
    "tabla['TELEFONOMOVIL']= tabla['TELEFONOMOVIL'].astype('int')\n",
    "tabla['TELEFONOFIJO']= tabla['TELEFONOFIJO'].astype('int')\n",
    "tabla['EMAIL']= tabla['EMAIL'].astype('int')"
   ]
  },
  {
   "cell_type": "code",
   "execution_count": 52,
   "metadata": {},
   "outputs": [],
   "source": [
    "#La nueva variable comunicaciones suma la cantidad de medios de comunicación disponibles para contactar a la persona\n",
    "tabla['COMUNICACIONES'] = tabla['TELEFONOMOVIL']+tabla['EMAIL']+tabla['TELEFONOFIJO']"
   ]
  },
  {
   "cell_type": "code",
   "execution_count": 53,
   "metadata": {},
   "outputs": [],
   "source": [
    "#Leemos la tabla 2\n",
    "altas = pd.read_csv(r'C:\\Users\\Marta\\Desktop\\MSF\\datathon_train\\2.ALTASYBAJAS_train.txt', \n",
    "                    sep=';', engine=\"python\", decimal=',', encoding=\"latin1\")   "
   ]
  },
  {
   "cell_type": "code",
   "execution_count": 24,
   "metadata": {},
   "outputs": [],
   "source": [
    "alta= altas\n",
    "del alta['IDFAMILIA']\n",
    "alta.columns = ['ID', 'FECHAALTA_alta', 'IDREGISTRO_alta', 'IDMEDIO_alta', 'IDCAMPANYA_alta']"
   ]
  },
  {
   "cell_type": "code",
   "execution_count": 25,
   "metadata": {},
   "outputs": [],
   "source": [
    "tabla = tabla.merge(alta)"
   ]
  },
  {
   "cell_type": "code",
   "execution_count": 26,
   "metadata": {},
   "outputs": [],
   "source": [
    "tabla=tabla.fillna(0)"
   ]
  },
  {
   "cell_type": "code",
   "execution_count": 27,
   "metadata": {},
   "outputs": [],
   "source": [
    "tabla['FECHAALTA_alta'] = pd.to_datetime(tabla['FECHAALTA_alta'], format= \"%d/%m/%Y %H:%M:%S\")"
   ]
  },
  {
   "cell_type": "code",
   "execution_count": 29,
   "metadata": {},
   "outputs": [],
   "source": [
    "#Formateamos la fecha de alta para que sea numérica y sólo contenga mes y año\n",
    "tabla['year'] = tabla['FECHAALTA_alta'].dt.year\n",
    "tabla['month'] = tabla['FECHAALTA_alta'].dt.month\n",
    "tabla['month'] = tabla['month'].map(\"{:02}\".format)\n",
    "tabla['FECHAALTA_alta']=(tabla.year.astype(str) + tabla.month.astype(str))"
   ]
  },
  {
   "cell_type": "code",
   "execution_count": 30,
   "metadata": {},
   "outputs": [],
   "source": [
    "del tabla['year']\n",
    "del tabla['month']"
   ]
  },
  {
   "cell_type": "code",
   "execution_count": 32,
   "metadata": {},
   "outputs": [],
   "source": [
    "tabla.to_csv(r'C:\\Users\\Marta\\Desktop\\MSF\\datathon_train\\procesamiento_1_2.csv', sep=';', encoding=\"latin1\", decimal=',', index=False)"
   ]
  },
  {
   "cell_type": "code",
   "execution_count": null,
   "metadata": {},
   "outputs": [],
   "source": [
    "#No usaremos la tabla mailings porque no aporta información relevante (propuesta de donativo y preferencia por correo o email, lo que ya tenemos en otra variable)"
   ]
  }
 ],
 "metadata": {
  "kernelspec": {
   "display_name": "Python 3",
   "language": "python",
   "name": "python3"
  },
  "language_info": {
   "codemirror_mode": {
    "name": "ipython",
    "version": 3
   },
   "file_extension": ".py",
   "mimetype": "text/x-python",
   "name": "python",
   "nbconvert_exporter": "python",
   "pygments_lexer": "ipython3",
   "version": "3.7.0"
  }
 },
 "nbformat": 4,
 "nbformat_minor": 2
}
